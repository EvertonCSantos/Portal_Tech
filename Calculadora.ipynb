{
  "nbformat": 4,
  "nbformat_minor": 0,
  "metadata": {
    "colab": {
      "provenance": [],
      "authorship_tag": "ABX9TyPIaGCj/eQqlXw7aMThrskG",
      "include_colab_link": true
    },
    "kernelspec": {
      "name": "python3",
      "display_name": "Python 3"
    },
    "language_info": {
      "name": "python"
    }
  },
  "cells": [
    {
      "cell_type": "markdown",
      "metadata": {
        "id": "view-in-github",
        "colab_type": "text"
      },
      "source": [
        "<a href=\"https://colab.research.google.com/github/EvertonCSantos/Portal_Tech/blob/Proz/Calculadora.ipynb\" target=\"_parent\"><img src=\"https://colab.research.google.com/assets/colab-badge.svg\" alt=\"Open In Colab\"/></a>"
      ]
    },
    {
      "cell_type": "code",
      "execution_count": 24,
      "metadata": {
        "colab": {
          "base_uri": "https://localhost:8080/"
        },
        "id": "wiodmLEft14f",
        "outputId": "5efc25b7-3665-42f8-ed00-cdd1e9620081"
      },
      "outputs": [
        {
          "output_type": "stream",
          "name": "stdout",
          "text": [
            "Digite o primeiro numero! -> 10\n",
            "Digite o segundo numero! -> 5\n",
            "Digite o número da operação que deseja realizar: 1(soma), 2(Sub), 3(Mult), 4(Div) -> 4\n",
            "2\n"
          ]
        }
      ],
      "source": [
        "def calculadora(x , y):\n",
        "  if (operacao == 1): return x + y\n",
        "  elif (operacao == 2): return x - y\n",
        "  elif (operacao == 3): return x * y\n",
        "  elif (operacao == 4): return int(x / y)\n",
        "  else : return 0\n",
        "\n",
        "x = int(input(\"Digite o primeiro numero! -> \"))\n",
        "y = int(input(\"Digite o segundo numero! -> \"))\n",
        "operacao = int(input(\"Digite o número da operação que deseja realizar: 1(soma), 2(Sub), 3(Mult), 4(Div) -> \"))\n",
        "\n",
        "resultado = calculadora(x , y)\n",
        "\n",
        "print(resultado)"
      ]
    },
    {
      "cell_type": "code",
      "source": [],
      "metadata": {
        "id": "KLAaPJNBuCAv"
      },
      "execution_count": null,
      "outputs": []
    }
  ]
}